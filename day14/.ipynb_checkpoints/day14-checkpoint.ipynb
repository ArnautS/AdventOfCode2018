{
 "cells": [
  {
   "cell_type": "code",
   "execution_count": 1,
   "metadata": {},
   "outputs": [
    {
     "name": "stdout",
     "output_type": "stream",
     "text": [
      "[6, 3, 5, 0, 4, 1]\n",
      "1000000\n",
      "2000000\n",
      "3000000\n",
      "4000000\n",
      "5000000\n",
      "6000000\n",
      "7000000\n",
      "8000000\n",
      "9000000\n",
      "10000000\n",
      "11000000\n",
      "12000000\n",
      "13000000\n",
      "14000000\n",
      "15000000\n",
      "20173656\n",
      "[1, 1, 5, 0, 5, 1, 1, 3, 8, 2]\n"
     ]
    }
   ],
   "source": [
    "import numpy as np\n",
    "\n",
    "inputN = 635041\n",
    "inputNlist = [int(x) for x in str(inputN)]\n",
    "inputSize = len(inputNlist)\n",
    "print(inputNlist)\n",
    "\n",
    "elfIndex = [0, 1]\n",
    "\n",
    "scores = [3, 7]\n",
    "scoresSize = 2\n",
    "i = 0\n",
    "found = False\n",
    "while not found: # and scoresSize < inputN + 10:\n",
    "    elfScores = [scores[index] for index in elfIndex]\n",
    "    for digit in map(int,str(sum(elfScores))):\n",
    "        scores.append(digit)\n",
    "        if scores[-inputSize:] == inputNlist:\n",
    "            found = True\n",
    "            print(scoresSize-inputSize+1)\n",
    "        scoresSize += 1\n",
    "    for elf, index in enumerate(elfIndex):\n",
    "        elfIndex[elf] = (index + (scores[index] + 1)) % scoresSize\n",
    "    i+=1\n",
    "    if i % 1000000 == 0:\n",
    "        print(i)\n",
    "                           \n",
    "final = scores[inputN:inputN+10]\n",
    "print(str(final))\n",
    "# 37101012451589167792\n",
    "# 5 : 0124515891\n",
    "# 18 : 9251071085\n",
    "# 2018 : 5941429882"
   ]
  },
  {
   "cell_type": "code",
   "execution_count": 2,
   "metadata": {},
   "outputs": [
    {
     "name": "stdout",
     "output_type": "stream",
     "text": [
      "1150511382\n",
      "1150511382"
     ]
    }
   ],
   "source": [
    "print(''.join([str(x) for x in final]))\n",
    "for x in final:\n",
    "    print(x,end='')"
   ]
  }
 ],
 "metadata": {
  "kernelspec": {
   "display_name": "Python 3",
   "language": "python",
   "name": "python3"
  },
  "language_info": {
   "codemirror_mode": {
    "name": "ipython",
    "version": 3
   },
   "file_extension": ".py",
   "mimetype": "text/x-python",
   "name": "python",
   "nbconvert_exporter": "python",
   "pygments_lexer": "ipython3",
   "version": "3.6.5"
  }
 },
 "nbformat": 4,
 "nbformat_minor": 2
}
