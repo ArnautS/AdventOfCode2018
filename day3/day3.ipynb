{
 "cells": [
  {
   "cell_type": "code",
   "execution_count": 53,
   "metadata": {},
   "outputs": [],
   "source": [
    "import numpy as np\n",
    "import re\n",
    "import matplotlib.pyplot as plt "
   ]
  },
  {
   "cell_type": "code",
   "execution_count": 35,
   "metadata": {},
   "outputs": [],
   "source": [
    "#load data\n",
    "text_file = open(\"input.txt\", \"r\")\n",
    "data = text_file.read().splitlines()\n",
    "N = len(data)\n",
    "\n",
    "pre = np.full((N,),\" \")\n",
    "ids = np.zeros(N,dtype=int)\n",
    "dLeft = np.zeros(N,dtype=int)\n",
    "dTop = np.zeros(N,dtype=int)\n",
    "width = np.zeros(N,dtype=int)\n",
    "height = np.zeros(N,dtype=int)\n",
    "\n",
    "for i in range(N):\n",
    "    pre[i], ids[i], dLeft[i], dTop[i], width[i], height[i] = re.split('\\D+', data[i])    \n"
   ]
  },
  {
   "cell_type": "code",
   "execution_count": 48,
   "metadata": {},
   "outputs": [
    {
     "name": "stdout",
     "output_type": "stream",
     "text": [
      "107043\n"
     ]
    }
   ],
   "source": [
    "#puzzle1\n",
    "fabric = np.zeros([1000,1000],dtype=int)\n",
    "for claim in range(N):\n",
    "    for i in range(dLeft[claim],dLeft[claim]+width[claim]):\n",
    "        for j in range(dTop[claim],dTop[claim]+height[claim]):\n",
    "            fabric[i,j] += 1\n",
    "\n",
    "print(fabric[fabric>1].size)"
   ]
  },
  {
   "cell_type": "code",
   "execution_count": 95,
   "metadata": {},
   "outputs": [
    {
     "name": "stdout",
     "output_type": "stream",
     "text": [
      "[346]\n"
     ]
    }
   ],
   "source": [
    "#puzzle2\n",
    "fabric = np.zeros([1000,1000],dtype=int)\n",
    "hasOverlap = ids<0\n",
    "\n",
    "for claim in range(N):\n",
    "    for i in range(dLeft[claim],dLeft[claim]+width[claim]):\n",
    "        for j in range(dTop[claim],dTop[claim]+height[claim]):\n",
    "            if fabric[i,j] > 0:\n",
    "                hasOverlap[claim] = True\n",
    "                hasOverlap[fabric[i,j]-1] = True\n",
    "            else:\n",
    "                fabric[i,j] = claim + 1\n",
    "\n",
    "print(ids[hasOverlap==False])"
   ]
  },
  {
   "cell_type": "code",
   "execution_count": 93,
   "metadata": {},
   "outputs": [
    {
     "data": {
      "text/plain": [
       "array([[  0,   0,   0,   0,   0,   0,   0,   0,   0,   0,   0,   0,   0,\n",
       "          0,   0,   0,   0,   0,   0],\n",
       "       [  0, 307, 307, 307, 307, 307, 307, 307, 307, 307, 307, 307, 307,\n",
       "        307, 307, 307, 307, 307,   0],\n",
       "       [  0, 307, 307, 307, 307, 307, 307, 307, 307, 307, 307, 307, 307,\n",
       "        307, 307, 307, 307, 307,   0],\n",
       "       [  0, 307, 307, 307, 307, 307, 307, 307, 307, 307, 307, 307, 307,\n",
       "        307, 307, 307, 307, 307,   0],\n",
       "       [  0, 307, 307, 307, 307, 307, 307, 307, 307, 307, 307, 307, 307,\n",
       "        307, 307, 307, 307, 307,   0],\n",
       "       [  0, 307, 307, 307, 307, 307, 307, 307, 307, 307, 307, 307, 307,\n",
       "        307, 307, 307, 307, 307,   0],\n",
       "       [  0, 307, 307, 307, 307, 307, 307, 307, 307, 307, 307, 307, 307,\n",
       "        307, 307, 307, 307, 307,   0],\n",
       "       [  0, 307, 307, 307, 307, 307, 307, 307, 307, 307, 307, 307, 307,\n",
       "        307, 307, 307, 307, 307,   0],\n",
       "       [  0, 307, 307, 307, 307, 307, 307, 307, 307, 307, 307, 307, 307,\n",
       "        307, 307, 307, 307, 307,   0],\n",
       "       [  0, 307, 307, 307, 307, 307, 307, 307, 307, 307, 307, 307, 307,\n",
       "        307, 307, 307, 307, 307,   0],\n",
       "       [  0, 307, 307, 307, 307, 307, 307, 307, 307, 307, 307, 307, 307,\n",
       "        307, 307, 307, 307, 307,   0],\n",
       "       [  0, 307, 307, 307, 307, 307, 307, 307, 307, 307, 307, 307, 307,\n",
       "        307, 307, 307, 307, 307,   0],\n",
       "       [  0, 307, 307, 307, 307, 307, 307, 307, 307, 307, 307, 307, 307,\n",
       "        307, 307, 307, 307, 307,   0],\n",
       "       [  0, 307, 307, 307, 307, 307, 307, 307, 307, 307, 307, 307, 307,\n",
       "        307, 307, 307, 307, 307,   0],\n",
       "       [  0, 307, 307, 307, 307, 307, 307, 307, 307, 307, 307, 307, 307,\n",
       "        307, 307, 307, 307, 307,   0],\n",
       "       [  0, 307, 307, 307, 307, 307, 307, 307, 307, 307, 307, 307, 307,\n",
       "        307, 307, 307, 307, 307,   0],\n",
       "       [  0, 307, 307, 307, 307, 307, 307, 307, 307, 307, 307, 307, 307,\n",
       "        307, 307, 307, 307, 307,   0],\n",
       "       [  0, 307, 307, 307, 307, 307, 307, 307, 307, 307, 307, 307, 307,\n",
       "        307, 307, 307, 307, 307,   0],\n",
       "       [  0, 307, 307, 307, 307, 307, 307, 307, 307, 307, 307, 307, 307,\n",
       "        307, 307, 307, 307, 307,   0],\n",
       "       [  0, 307, 307, 307, 307, 307, 307, 307, 307, 307, 307, 307, 307,\n",
       "        307, 307, 307, 307, 307,   0],\n",
       "       [  0, 307, 307, 307, 307, 307, 307, 307, 307, 307, 307, 307, 307,\n",
       "        307, 307, 307, 307, 307,   0],\n",
       "       [  0, 307, 307, 307, 307, 307, 307, 307, 307, 307, 307, 307, 307,\n",
       "        307, 307, 307, 307, 307,   0],\n",
       "       [  0, 307, 307, 307, 307, 307, 307, 307, 307, 307, 307, 307, 307,\n",
       "        307, 307, 307, 307, 307,   0],\n",
       "       [  0, 307, 307, 307, 307, 307, 307, 307, 307, 307, 307, 307, 307,\n",
       "        307, 307, 307, 307, 307,   0],\n",
       "       [  0, 307, 307, 307, 307, 307, 307, 307, 307, 307, 307, 307, 307,\n",
       "        307, 307, 307, 307, 307,   0],\n",
       "       [  0, 307, 307, 307, 307, 307, 307, 307, 307, 307, 307, 307, 307,\n",
       "        307, 307, 307, 307, 307,   0],\n",
       "       [  0, 307, 307, 307, 307, 307, 307, 307, 307, 307, 307, 307, 307,\n",
       "        307, 307, 307, 307, 307,   0],\n",
       "       [  0, 307, 307, 307, 307, 307, 307, 307, 307, 307, 307, 307, 307,\n",
       "        307, 307, 307, 307, 307,   0],\n",
       "       [  0, 307, 307, 307, 307, 307, 307, 307, 307, 307, 307, 307, 307,\n",
       "        307, 307, 307, 307, 307,   0],\n",
       "       [  0, 307, 307, 307, 307, 307, 307, 307, 307, 307, 307, 307, 307,\n",
       "        307, 307, 307, 307, 307,   0],\n",
       "       [  0,   0,   0,   0,   0,   0,   0,   0,   0,   0,   0,   0,   0,\n",
       "          0,   0,   0,   0,   0,   0]])"
      ]
     },
     "execution_count": 93,
     "metadata": {},
     "output_type": "execute_result"
    }
   ],
   "source": [
    "# plt.imshow(fabric, cmap='hot')\n",
    "# plt.figure()\n",
    "fabric[600:631,735:754]\n",
    "# np.where(fabric==307)[1]"
   ]
  },
  {
   "cell_type": "code",
   "execution_count": null,
   "metadata": {},
   "outputs": [],
   "source": []
  }
 ],
 "metadata": {
  "kernelspec": {
   "display_name": "Python 3",
   "language": "python",
   "name": "python3"
  },
  "language_info": {
   "codemirror_mode": {
    "name": "ipython",
    "version": 3
   },
   "file_extension": ".py",
   "mimetype": "text/x-python",
   "name": "python",
   "nbconvert_exporter": "python",
   "pygments_lexer": "ipython3",
   "version": "3.7.0"
  }
 },
 "nbformat": 4,
 "nbformat_minor": 2
}
