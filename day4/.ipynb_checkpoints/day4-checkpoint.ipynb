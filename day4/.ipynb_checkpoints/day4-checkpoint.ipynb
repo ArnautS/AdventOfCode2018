{
 "cells": [
  {
   "cell_type": "code",
   "execution_count": 1,
   "metadata": {},
   "outputs": [],
   "source": [
    "import numpy as np\n",
    "import re\n",
    "import matplotlib.pyplot as plt "
   ]
  },
  {
   "cell_type": "code",
   "execution_count": 2,
   "metadata": {},
   "outputs": [],
   "source": [
    "#load data\n",
    "text_file = open(\"input.txt\", \"r\")\n",
    "data = text_file.read().splitlines()\n",
    "data.sort()\n",
    "MAXGUARD = 0\n",
    "for entry in data:\n",
    "    m = re.search('#(\\d+)',entry)\n",
    "    if m:\n",
    "        x = m.group(1)\n",
    "        if int(x) > MAXGUARD:\n",
    "            MAXGUARD = int(x)\n",
    "            "
   ]
  },
  {
   "cell_type": "code",
   "execution_count": 3,
   "metadata": {
    "scrolled": false
   },
   "outputs": [
    {
     "name": "stdout",
     "output_type": "stream",
     "text": [
      "95199\n"
     ]
    }
   ],
   "source": [
    "def getMinutes(message):\n",
    "    return int(re.search(':(\\d+)',message).group(1))\n",
    "\n",
    "def getGuardID(message):\n",
    "    return int(re.search('#(\\d+)',message).group(1))\n",
    "\n",
    "minutesSlept = np.zeros([MAXGUARD+1,60])\n",
    "for entry in data:\n",
    "    if \"Guard\" in entry:\n",
    "        GuardID = getGuardID(entry)\n",
    "        startSleeping = 0\n",
    "        stopSleeping = 0\n",
    "    if \"asleep\" in entry:\n",
    "        startSleeping = getMinutes(entry)\n",
    "    if \"wakes\" in entry:\n",
    "        stopSleeping = getMinutes(entry)\n",
    "        for minute in range(startSleeping, stopSleeping):\n",
    "            minutesSlept[GuardID, minute] += 1\n",
    "\n",
    "mostSleepGuard = np.argmax(sum(minutesSlept.T))\n",
    "mostSleepMinute = np.argmax(minutesSlept[mostSleepGuard])\n",
    "print(mostSleepGuard*mostSleepMinute)"
   ]
  },
  {
   "cell_type": "code",
   "execution_count": null,
   "metadata": {},
   "outputs": [],
   "source": []
  }
 ],
 "metadata": {
  "celltoolbar": "Raw Cell Format",
  "kernelspec": {
   "display_name": "Python 3",
   "language": "python",
   "name": "python3"
  },
  "language_info": {
   "codemirror_mode": {
    "name": "ipython",
    "version": 3
   },
   "file_extension": ".py",
   "mimetype": "text/x-python",
   "name": "python",
   "nbconvert_exporter": "python",
   "pygments_lexer": "ipython3",
   "version": "3.6.5"
  }
 },
 "nbformat": 4,
 "nbformat_minor": 2
}
