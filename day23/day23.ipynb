{
 "cells": [
  {
   "cell_type": "code",
   "execution_count": 1,
   "metadata": {},
   "outputs": [
    {
     "data": {
      "text/plain": [
       "580"
      ]
     },
     "execution_count": 1,
     "metadata": {},
     "output_type": "execute_result"
    }
   ],
   "source": [
    "import numpy as np\n",
    "import re\n",
    "\n",
    "text = open('input.txt').read().splitlines()\n",
    "data = np.array([np.array([int(x) for x in re.findall('-?\\d+', line)]) for line in text])\n",
    "positions = data[:,:3]\n",
    "ranges = data[:,3]\n",
    "\n",
    "def nanobotsInRange(posIn, r):\n",
    "    res = 0\n",
    "    for pos in positions:\n",
    "        if sum(abs(posIn - pos)) <= r:\n",
    "            res += 1\n",
    "    return res\n",
    "\n",
    "maxIndex = np.argmax(ranges)\n",
    "nanobotsInRange(positions[maxIndex], ranges[maxIndex])\n",
    "\n",
    "# too high 709"
   ]
  },
  {
   "cell_type": "code",
   "execution_count": 9,
   "metadata": {},
   "outputs": [
    {
     "name": "stdout",
     "output_type": "stream",
     "text": [
      "536870912\n",
      "Best location value: 97816347\n"
     ]
    }
   ],
   "source": [
    "def calc2(values):\n",
    "    xs = data[:,0]\n",
    "    ys = data[:,1]\n",
    "    zs = data[:,2]\n",
    "\n",
    "    dist = 1\n",
    "    while dist < max(xs) - min(xs):\n",
    "        dist *= 2\n",
    "    print(dist)    \n",
    "    while True:\n",
    "        target_count = 0\n",
    "        best = (0,0,0)\n",
    "        best_val = 0\n",
    "        for x in range(min(xs), max(xs) + 1, dist):\n",
    "            for y in range(min(ys), max(ys) + 1, dist):\n",
    "                for z in range(min(zs), max(zs) + 1, dist):\n",
    "                    count = 0\n",
    "                    for pos in positions:\n",
    "                        if sum(abs(posIn - pos)) <= r:\n",
    "                            res += 1\n",
    "                    for bx, by, bz, bdist in data:\n",
    "                        calc = abs(x - bx) + abs(y - by) + abs(z - bz)\n",
    "                        if (calc - bdist) / dist <= 0:\n",
    "                            count += 1\n",
    "                    if count > target_count:\n",
    "                        target_count = count\n",
    "                        best_val = abs(x) + abs(y) + abs(z)\n",
    "                        best = (x, y, z)\n",
    "                    elif count == target_count:\n",
    "                        if abs(x) + abs(y) + abs(z) < best_val:\n",
    "                            best_val = abs(x) + abs(y) + abs(z)\n",
    "                            best = (x, y, z)\n",
    "\n",
    "        if dist == 1:\n",
    "            return best_val\n",
    "        else:\n",
    "            xs = [best[0] - dist, best[0] + dist]\n",
    "            ys = [best[1] - dist, best[1] + dist]\n",
    "            zs = [best[2] - dist, best[2] + dist]\n",
    "            dist = dist // 2\n",
    "\n",
    "\n",
    "print(\"Best location value: \" + str(calc2(text)))\n"
   ]
  },
  {
   "cell_type": "code",
   "execution_count": null,
   "metadata": {},
   "outputs": [],
   "source": []
  }
 ],
 "metadata": {
  "kernelspec": {
   "display_name": "Python 3",
   "language": "python",
   "name": "python3"
  },
  "language_info": {
   "codemirror_mode": {
    "name": "ipython",
    "version": 3
   },
   "file_extension": ".py",
   "mimetype": "text/x-python",
   "name": "python",
   "nbconvert_exporter": "python",
   "pygments_lexer": "ipython3",
   "version": "3.7.0"
  }
 },
 "nbformat": 4,
 "nbformat_minor": 2
}
