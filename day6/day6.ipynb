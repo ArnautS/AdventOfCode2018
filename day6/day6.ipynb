{
 "cells": [
  {
   "cell_type": "code",
   "execution_count": null,
   "metadata": {
    "scrolled": true
   },
   "outputs": [
    {
     "name": "stdout",
     "output_type": "stream",
     "text": [
      "[[-1 -1 -1 ... -1 -1 -1]\n",
      " [-1 -1 -1 ... -1 -1 -1]\n",
      " [-1 -1 -1 ... -1 -1 -1]\n",
      " ...\n",
      " [-1 -1 -1 ... -1 -1 -1]\n",
      " [-1 -1 -1 ... -1 -1 -1]\n",
      " [-1 -1 -1 ... -1 -1 -1]]\n"
     ]
    }
   ],
   "source": [
    "import numpy as np\n",
    "\n",
    "coordinates = np.genfromtxt('input.txt',delimiter=',',dtype=int)\n",
    "\n",
    "def distance(a,b):\n",
    "    return abs(a[0]-b[0]) + abs(a[1]-b[1])\n",
    "\n",
    "minX = np.min(coordinates[:,0])\n",
    "maxX = np.max(coordinates[:,0])\n",
    "minY = np.min(coordinates[:,1])\n",
    "maxY = np.max(coordinates[:,1])\n",
    "\n",
    "grid = -np.ones([maxX - minX + 3, maxY - minY + 3], int)\n",
    "\n",
    "for index, point in enumerate(coordinates):\n",
    "    plotpoint = point-[minX,minY]+[1,1]\n",
    "    grid[plotpoint[0],plotpoint[1]] = index\n",
    "\n",
    "print(grid)\n",
    "areas = np.zeros(coordinates.shape[0], int)\n",
    "\n",
    "for i in range(minX-1, maxX+2):\n",
    "    for j in range(minY-1, maxY+2):\n",
    "        distances = [distance(x,[i,j]) for x in coordinates]\n",
    "        minDistance = min(distances)\n",
    "        indices = [i for i, x in enumerate(distances) if x == minDistance]\n",
    "        if len(indices) == 1:\n",
    "            grid[i - minX + 1, j - minY + 1] = indices[0]\n",
    "            areas[indices[0]] += 1\n",
    "print(grid[0,:])\n",
    "\n",
    "edgecoordinates = np.unique(np.concatenate([np.unique(grid[:,0]),np.unique(grid[:,grid.shape[1]-1]),\\\n",
    "       np.unique(grid[0,:]),np.unique(grid[grid.shape[0]-1,:])]))\n",
    "\n",
    "noInfiniteAreas = [x for i,x in enumerate(areas) if i not in edgecoordinates]\n",
    "print(areas)\n",
    "print(noInfiniteAreas) \n",
    "        "
   ]
  }
 ],
 "metadata": {
  "kernelspec": {
   "display_name": "Python 3",
   "language": "python",
   "name": "python3"
  },
  "language_info": {
   "codemirror_mode": {
    "name": "ipython",
    "version": 3
   },
   "file_extension": ".py",
   "mimetype": "text/x-python",
   "name": "python",
   "nbconvert_exporter": "python",
   "pygments_lexer": "ipython3",
   "version": "3.6.5"
  }
 },
 "nbformat": 4,
 "nbformat_minor": 2
}
