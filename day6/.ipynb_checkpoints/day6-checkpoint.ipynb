{
 "cells": [
  {
   "cell_type": "code",
   "execution_count": 10,
   "metadata": {
    "scrolled": true
   },
   "outputs": [
    {
     "name": "stdout",
     "output_type": "stream",
     "text": [
      "4186\n",
      "45509\n"
     ]
    }
   ],
   "source": [
    "import numpy as np\n",
    "\n",
    "coordinates = np.genfromtxt('input.txt',delimiter=',',dtype=int)\n",
    "\n",
    "def distance(a,b):\n",
    "    return abs(a[0]-b[0]) + abs(a[1]-b[1])\n",
    "\n",
    "# boundaries of the grid around all coordinates + border\n",
    "minX = np.min(coordinates[:,0]) - 1\n",
    "maxX = np.max(coordinates[:,0]) + 2\n",
    "minY = np.min(coordinates[:,1]) - 1\n",
    "maxY = np.max(coordinates[:,1]) + 2\n",
    "\n",
    "grid = -np.ones([maxX - minX, maxY - minY], int)\n",
    "\n",
    "for index, point in enumerate(coordinates):\n",
    "    plotpoint = point-[minX,minY]\n",
    "    grid[plotpoint[0],plotpoint[1]] = index\n",
    "\n",
    "areas = np.zeros(coordinates.shape[0], int)\n",
    "gridpoints = [[i,j] for i in np.arange(minX, maxX) for j in np.arange(minY, maxY)]\n",
    "safeArea = 0\n",
    "for point in gridpoints:\n",
    "    distances = np.array([distance(x,point) for x in coordinates])\n",
    "    minDistance = min(distances)\n",
    "    minIndices = [i for i, x in enumerate(distances) if x == minDistance]\n",
    "    if len(minIndices) == 1:\n",
    "        grid[point[0] - minX, point[1] - minY] = minIndices[0]\n",
    "        areas[minIndices[0]] += 1\n",
    "    if sum(distances)<10000:\n",
    "        safeArea += 1\n",
    "\n",
    "edgecoordinates = np.unique(np.concatenate([grid[:,0],grid[:,-1],grid[0,:],grid[-1,:]]))\n",
    "\n",
    "noInfiniteAreas = [x for i,x in enumerate(areas) if i not in edgecoordinates]\n",
    "print(max(noInfiniteAreas))\n",
    "print(safeArea)"
   ]
  }
 ],
 "metadata": {
  "kernelspec": {
   "display_name": "Python 3",
   "language": "python",
   "name": "python3"
  },
  "language_info": {
   "codemirror_mode": {
    "name": "ipython",
    "version": 3
   },
   "file_extension": ".py",
   "mimetype": "text/x-python",
   "name": "python",
   "nbconvert_exporter": "python",
   "pygments_lexer": "ipython3",
   "version": "3.7.0"
  }
 },
 "nbformat": 4,
 "nbformat_minor": 2
}
