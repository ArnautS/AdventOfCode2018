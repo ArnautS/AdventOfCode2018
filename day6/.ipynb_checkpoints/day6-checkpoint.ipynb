{
 "cells": [
  {
   "cell_type": "code",
   "execution_count": 54,
   "metadata": {
    "scrolled": true
   },
   "outputs": [
    {
     "name": "stdout",
     "output_type": "stream",
     "text": [
      "349\n",
      "(308, 308)\n",
      "[[-1 -1 -1 ... -1 -1 -1]\n",
      " [-1 -1 -1 ... -1 -1 -1]\n",
      " [-1 -1 -1 ... -1 -1 -1]\n",
      " ...\n",
      " [-1 -1 -1 ... -1 -1 -1]\n",
      " [-1 -1 -1 ... -1 -1 -1]\n",
      " [-1 -1 -1 ... -1 -1 -1]]\n"
     ]
    }
   ],
   "source": [
    "import numpy as np\n",
    "\n",
    "coordinates = np.genfromtxt('input.txt',delimiter=',',dtype=int)\n",
    "\n",
    "def distance(a,b):\n",
    "    return abs(a[0]-b[0]) + abs(a[1]-b[1])\n",
    "\n",
    "print(np.max(coordinates[:,0]))\n",
    "\n",
    "minX = np.min(coordinates[:,0])\n",
    "maxX = np.max(coordinates[:,0])\n",
    "minY = np.min(coordinates[:,1])\n",
    "maxY = np.max(coordinates[:,1])\n",
    "\n",
    "grid = -np.ones([maxX - minX + 3, maxY - minY + 3], int)\n",
    "print(np.shape(grid))\n",
    "for point in coordinates:\n",
    "    plotpoint = point-[minX,minY]+[1,1]\n",
    "    grid[plotpoint[0],plotpoint[1]] = 1\n",
    "    \n",
    "print(grid)\n"
   ]
  }
 ],
 "metadata": {
  "kernelspec": {
   "display_name": "Python 3",
   "language": "python",
   "name": "python3"
  },
  "language_info": {
   "codemirror_mode": {
    "name": "ipython",
    "version": 3
   },
   "file_extension": ".py",
   "mimetype": "text/x-python",
   "name": "python",
   "nbconvert_exporter": "python",
   "pygments_lexer": "ipython3",
   "version": "3.6.5"
  }
 },
 "nbformat": 4,
 "nbformat_minor": 2
}
