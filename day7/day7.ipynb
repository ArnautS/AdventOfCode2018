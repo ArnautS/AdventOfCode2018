{
 "cells": [
  {
   "cell_type": "code",
   "execution_count": 38,
   "metadata": {},
   "outputs": [
    {
     "name": "stdout",
     "output_type": "stream",
     "text": [
      "CABDFEW\n"
     ]
    }
   ],
   "source": [
    "import numpy as np\n",
    "import string\n",
    "\n",
    "text_file = open(\"test.txt\", \"r\")\n",
    "data = text_file.read().splitlines()\n",
    "\n",
    "# pair = [required step, next step]\n",
    "initpairs = np.array([[line[5], line[-12]] for line in data])\n",
    "\n",
    "def stepsOrder(pairs):\n",
    "    initial = np.unique(pairs)\n",
    "    res = ''\n",
    "    while not (pairs=='').all():\n",
    "        for letter in np.unique(pairs[:,0]):\n",
    "            if letter not in pairs[:,1]:\n",
    "                res += letter\n",
    "                pairs[pairs[:,0] == letter] = ''\n",
    "                break\n",
    "    for letter in initial:\n",
    "        if letter not in res:\n",
    "            res += letter\n",
    "    return res\n",
    "            \n",
    "print(stepsOrder(initpairs))"
   ]
  },
  {
   "cell_type": "code",
   "execution_count": 116,
   "metadata": {},
   "outputs": [
    {
     "name": "stdout",
     "output_type": "stream",
     "text": [
      "activated: [('C', 3) ('', 0)]\n",
      "leastWork 3\n",
      "[('', 0) ('', 0)]\n",
      "activated: [('A', 1) ('F', 6)]\n",
      "leastWork 1\n",
      "[('', 0) ('F', 5)]\n",
      "activated: [('B', 2) ('F', 5)]\n",
      "leastWork 2\n",
      "[('', 0) ('F', 3)]\n",
      "activated: [('D', 4) ('F', 3)]\n",
      "leastWork 3\n",
      "[('D', 1) ('', 0)]\n",
      "activated: [('D', 1) ('', 0)]\n",
      "leastWork 1\n",
      "[('', 0) ('', 0)]\n",
      "CABFD\n"
     ]
    }
   ],
   "source": [
    "workerStatus = np.array([('', 0)],dtype=[('step','U1'),('time',int)])\n",
    "workerStatus = np.repeat(workerStatus,2)\n",
    "pairs = np.array([[line[5], line[-12]] for line in data])\n",
    "res = ''\n",
    "\n",
    "def workTime(step):\n",
    "    return ord(step) - 64\n",
    "\n",
    "def activateWork(pairs):\n",
    "    for letter in np.unique(pairs[:,0]):\n",
    "        if letter not in pairs[:,1] and letter not in workerStatus['step']:\n",
    "            availableWorkers = np.where(workerStatus['time']==0)[0]\n",
    "            workerStatus[availableWorkers[0]] = (letter, workTime(letter))\n",
    "            if len(availableWorkers) == 1:\n",
    "                break\n",
    "\n",
    "def updateWork(workerStatus):\n",
    "    for worker, status in enumerate(workerStatus):\n",
    "        if status[1] > 0:\n",
    "            workerStatus[worker][1] -= 1\n",
    "\n",
    "def completeWork(step, res):\n",
    "    res += step\n",
    "    pairs[pairs[:,0] == step] = ''\n",
    "    \n",
    "    return res\n",
    "\n",
    "while not (pairs=='').all():\n",
    "    activateWork(pairs)\n",
    "    print('activated:',workerStatus)\n",
    "    leastWork = min(workerStatus['time'][workerStatus['time']!=0])\n",
    "    print('leastWork', leastWork)\n",
    "    for i in range(leastWork):\n",
    "        updateWork(workerStatus)\n",
    "    for worker, status in enumerate(workerStatus):\n",
    "        if status[0] != '' and status[1] == 0:\n",
    "            res = completeWork(status[0], res)\n",
    "            workerStatus['step'][worker] = ''\n",
    "    print(workerStatus)\n",
    "\n",
    "print(res)\n"
   ]
  },
  {
   "cell_type": "code",
   "execution_count": 56,
   "metadata": {},
   "outputs": [
    {
     "name": "stdout",
     "output_type": "stream",
     "text": [
      "[61 62 63 64 65 66 67 68 69 70 71 72 73 74 75 76 77 78 79 80 81 82 83 84\n",
      " 85 86]\n",
      "[9]\n"
     ]
    }
   ],
   "source": [
    "time = np.array([ord(x) - 4 for x in string.ascii_uppercase])\n",
    "print(time)\n",
    "print(np.where(time==70)[0])"
   ]
  },
  {
   "cell_type": "code",
   "execution_count": 88,
   "metadata": {},
   "outputs": [
    {
     "name": "stdout",
     "output_type": "stream",
     "text": [
      "('B', 10)\n"
     ]
    }
   ],
   "source": [
    "x = np.array([(\"A\", 10)],dtype=[('step','U1'),('time',int)])\n",
    "x[0][0] = 'B'\n",
    "y = np.repeat(x,5)\n",
    "print(y[2])\n",
    "\n",
    "\n",
    "# np.repeat([('A', 10)],5,axis=0,dtype=[('step',str),('time',int)])"
   ]
  }
 ],
 "metadata": {
  "kernelspec": {
   "display_name": "Python 3",
   "language": "python",
   "name": "python3"
  },
  "language_info": {
   "codemirror_mode": {
    "name": "ipython",
    "version": 3
   },
   "file_extension": ".py",
   "mimetype": "text/x-python",
   "name": "python",
   "nbconvert_exporter": "python",
   "pygments_lexer": "ipython3",
   "version": "3.6.5"
  }
 },
 "nbformat": 4,
 "nbformat_minor": 2
}
