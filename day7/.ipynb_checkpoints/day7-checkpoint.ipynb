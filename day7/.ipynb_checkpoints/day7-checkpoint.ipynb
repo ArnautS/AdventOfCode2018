{
 "cells": [
  {
   "cell_type": "code",
   "execution_count": 7,
   "metadata": {},
   "outputs": [
    {
     "name": "stdout",
     "output_type": "stream",
     "text": [
      "FMOXCDGJRAUIHKNYZTESWLPBQV\n"
     ]
    }
   ],
   "source": [
    "import numpy as np\n",
    "import string\n",
    "\n",
    "text_file = open(\"input.txt\", \"r\")\n",
    "data = text_file.read().splitlines()\n",
    "\n",
    "# pair = [required step, next step]\n",
    "initpairs = np.array([[line[5], line[-12]] for line in data])\n",
    "\n",
    "def stepsOrder(pairs):\n",
    "    initial = np.unique(pairs)\n",
    "    res = ''\n",
    "    while not (pairs=='').all():\n",
    "        for letter in np.unique(pairs[:,0]):\n",
    "            if letter not in pairs[:,1]:\n",
    "                res += letter\n",
    "                pairs[pairs[:,0] == letter] = ''\n",
    "                break\n",
    "    for letter in initial:\n",
    "        if letter not in res:\n",
    "            res += letter\n",
    "    return res\n",
    "            \n",
    "print(stepsOrder(initpairs))"
   ]
  },
  {
   "cell_type": "code",
   "execution_count": 17,
   "metadata": {},
   "outputs": [
    {
     "name": "stdout",
     "output_type": "stream",
     "text": [
      "\n",
      "V\n",
      "82\n",
      "1053\n"
     ]
    }
   ],
   "source": [
    "workerStatus = np.array([('', 0)],dtype=[('step','U1'),('time',int)])\n",
    "workerStatus = np.repeat(workerStatus,5)\n",
    "pairs = np.array([[line[5], line[-12]] for line in data])\n",
    "res = ''\n",
    "\n",
    "def workTime(step):\n",
    "    return ord(step) - 4\n",
    "\n",
    "def activateWork(pairs):\n",
    "    for letter in np.unique(pairs[:,0]):\n",
    "        if letter not in pairs[:,1] and letter not in workerStatus['step']:\n",
    "            availableWorkers = np.where(workerStatus['time']==0)[0]\n",
    "            workerStatus[availableWorkers[0]] = (letter, workTime(letter))\n",
    "            if len(availableWorkers) == 1:\n",
    "                break\n",
    "\n",
    "def updateWork(workerStatus):\n",
    "    for worker, status in enumerate(workerStatus):\n",
    "        if status[1] > 0:\n",
    "            workerStatus[worker][1] -= 1\n",
    "\n",
    "def completeWork(step, res):\n",
    "    res += step\n",
    "    pairs[pairs[:,0] == step,0] = ''\n",
    "    \n",
    "    return res\n",
    "total = 0\n",
    "while not (pairs[:,0]=='').all():\n",
    "    activateWork(pairs)\n",
    "    leastWork = min(workerStatus['time'][workerStatus['time']!=0])\n",
    "    for i in range(leastWork):\n",
    "        updateWork(workerStatus)\n",
    "        total += 1\n",
    "    for worker, status in enumerate(workerStatus):\n",
    "        if status[0] != '' and status[1] == 0:\n",
    "            res = completeWork(status[0], res)\n",
    "            workerStatus['step'][worker] = ''\n",
    "    if (pairs[:,0]=='').all():\n",
    "        for letter in np.unique(pairs[:,1]):\n",
    "            res += letter\n",
    "    else:\n",
    "        pairs[pairs[:,0] == '',1] = ''\n",
    "print(workTime('V'))\n",
    "print(total+workTime('V'))\n"
   ]
  },
  {
   "cell_type": "code",
   "execution_count": null,
   "metadata": {},
   "outputs": [],
   "source": []
  }
 ],
 "metadata": {
  "kernelspec": {
   "display_name": "Python 3",
   "language": "python",
   "name": "python3"
  },
  "language_info": {
   "codemirror_mode": {
    "name": "ipython",
    "version": 3
   },
   "file_extension": ".py",
   "mimetype": "text/x-python",
   "name": "python",
   "nbconvert_exporter": "python",
   "pygments_lexer": "ipython3",
   "version": "3.7.0"
  }
 },
 "nbformat": 4,
 "nbformat_minor": 2
}
