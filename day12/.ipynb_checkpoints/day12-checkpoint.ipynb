{
 "cells": [
  {
   "cell_type": "code",
   "execution_count": 138,
   "metadata": {},
   "outputs": [
    {
     "name": "stdout",
     "output_type": "stream",
     "text": [
      "1733\n",
      "1000000000508.0\n",
      "['.' '.' '.' '.' '.' '.' '.' '.' '.' '.' '.' '.' '.' '.' '.' '.' '.' '.'\n",
      " '.' '.' '.' '.' '.' '.' '.' '.' '.' '.' '.' '.' '.' '.' '.' '.' '.' '.'\n",
      " '.' '.' '.' '.' '.' '.' '.' '.' '.' '.' '.' '.' '.' '.' '.' '.' '.' '.'\n",
      " '.' '.' '.' '.' '.' '.' '.' '.' '.' '.' '.' '.' '.' '.' '.' '.' '.' '.'\n",
      " '.' '.' '.' '.' '.' '.' '.' '.' '.' '.' '.' '.' '.' '.' '.' '.' '.' '.'\n",
      " '.' '.' '.' '.' '.' '.' '.' '.' '.' '.' '.' '.' '.' '.' '.' '.' '#' '.'\n",
      " '.' '.' '.' '#' '.' '.' '.' '.' '.' '#' '.' '.' '.' '.' '.' '.' '#' '.'\n",
      " '.' '.' '.' '#' '.' '.' '.' '.' '#' '.' '.' '.' '.' '.' '#' '.' '.' '.'\n",
      " '.' '.' '.' '.' '#' '.' '.' '.' '.' '.' '.' '.' '#' '.' '.' '.' '.' '.'\n",
      " '.' '.' '#' '.' '.' '.' '.' '#' '.' '.' '.' '.' '#' '.' '.' '.' '.' '#'\n",
      " '.' '.' '.' '.' '.' '.' '.' '#' '.' '.' '.' '.' '.' '.' '.' '#' '.' '.'\n",
      " '.' '.' '.' '.' '.' '.' '#' '.' '.' '.' '.' '.' '.' '.' '.' '.' '#' '.'\n",
      " '.' '.' '.' '#' '.' '.' '.' '.' '.' '#' '.' '.' '.' '.' '.' '.' '.' '#'\n",
      " '.' '.' '.' '.' '.' '.' '.' '.' '.' '.' '.' '.' '.' '.' '.' '.' '.' '.'\n",
      " '.' '.']\n",
      "3128\n"
     ]
    }
   ],
   "source": [
    "import numpy as np\n",
    "import re\n",
    "from collections import deque\n",
    "\n",
    "data = open('input.txt','r').read().splitlines()\n",
    "\n",
    "initial = re.split('initial state: ', data[0])[1]#data[0][15:]\n",
    "pre, post = 10, 150\n",
    "plants = np.repeat('.',pre + len(initial) + post)\n",
    "plants[pre:pre+len(initial)] = [x for x in initial]\n",
    "patterns = dict([re.split(' => ', entry) for entry in data[2:]])\n",
    "points = np.arange(-pre,len(initial)+post)\n",
    "\n",
    "oldscore = 0\n",
    "olddiff = 0\n",
    "for i in range(200):\n",
    "    oldPlants = np.copy(plants)\n",
    "    for j in range(2, plants.size - 2):\n",
    "        plants[j] = patterns[''.join(oldPlants[j-2:j+3])]       \n",
    "    if i%10 == 0:\n",
    "        score = points[plants=='#'].sum()\n",
    "        diff = score - oldscore\n",
    "        if diff == olddiff:\n",
    "            gensLeft = 5e10 - i - 1\n",
    "            break\n",
    "        oldscore = score\n",
    "        olddiff = diff\n",
    "    if i == 19:\n",
    "        print(points[plants=='#'].sum())\n",
    "\n",
    "print(score + gensLeft * diff / 10)"
   ]
  }
 ],
 "metadata": {
  "kernelspec": {
   "display_name": "Python 3",
   "language": "python",
   "name": "python3"
  },
  "language_info": {
   "codemirror_mode": {
    "name": "ipython",
    "version": 3
   },
   "file_extension": ".py",
   "mimetype": "text/x-python",
   "name": "python",
   "nbconvert_exporter": "python",
   "pygments_lexer": "ipython3",
   "version": "3.6.5"
  }
 },
 "nbformat": 4,
 "nbformat_minor": 2
}
