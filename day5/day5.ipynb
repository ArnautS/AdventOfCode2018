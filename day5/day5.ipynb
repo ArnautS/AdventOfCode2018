{
 "cells": [
  {
   "cell_type": "code",
   "execution_count": 30,
   "metadata": {},
   "outputs": [
    {
     "name": "stdout",
     "output_type": "stream",
     "text": [
      "10450\n"
     ]
    }
   ],
   "source": [
    "import numpy as np\n",
    "import string\n",
    "\n",
    "txt_file = open('input.txt','r')\n",
    "polymerInit = txt_file.read().splitlines()[0]\n",
    "\n",
    "lowers = list(string.ascii_lowercase) \n",
    "uppers = list(string.ascii_uppercase)\n",
    "\n",
    "#add all combinations of aA, bB, cC etc to a list\n",
    "reactions = [''.join(x) for x in zip(lowers, uppers)] \n",
    "#add all reversed combinations to the list, Aa, Bb, Cc etc\n",
    "reactions += [x[::-1] for x in reactions]\n",
    "\n",
    "def react(polymer):    \n",
    "    oldpolymer = ''\n",
    "    while oldpolymer != polymer:\n",
    "        oldpolymer = (polymer + '.')[:-1]\n",
    "        for reaction in reactions:\n",
    "            polymer = polymer.replace(reaction,'')\n",
    "    return polymer\n",
    "\n",
    "print(len(react(polymerInit)))"
   ]
  },
  {
   "cell_type": "code",
   "execution_count": 31,
   "metadata": {},
   "outputs": [
    {
     "name": "stdout",
     "output_type": "stream",
     "text": [
      "4624\n"
     ]
    }
   ],
   "source": [
    "def removeUnit(polymer, unit):\n",
    "    polymer = polymer.replace(unit,'')\n",
    "    polymer = polymer.replace(unit.swapcase(),'')\n",
    "    return polymer\n",
    "\n",
    "lengthPolymer = np.zeros(26,int)\n",
    "i = 0\n",
    "for letter in lowers:\n",
    "    polymer = removeUnit(polymerInit, letter)\n",
    "    polymer = react(polymer)\n",
    "    lengthPolymer[i] = len(polymer)\n",
    "    i += 1\n",
    "    \n",
    "print(min(lengthPolymer))    "
   ]
  }
 ],
 "metadata": {
  "kernelspec": {
   "display_name": "Python 3",
   "language": "python",
   "name": "python3"
  },
  "language_info": {
   "codemirror_mode": {
    "name": "ipython",
    "version": 3
   },
   "file_extension": ".py",
   "mimetype": "text/x-python",
   "name": "python",
   "nbconvert_exporter": "python",
   "pygments_lexer": "ipython3",
   "version": "3.6.5"
  }
 },
 "nbformat": 4,
 "nbformat_minor": 2
}
