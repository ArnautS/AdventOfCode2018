{
 "cells": [
  {
   "cell_type": "code",
   "execution_count": 132,
   "metadata": {},
   "outputs": [
    {
     "name": "stdout",
     "output_type": "stream",
     "text": [
      "10450\n"
     ]
    }
   ],
   "source": [
    "import numpy as np\n",
    "import string\n",
    "\n",
    "txt_file = open('input.txt','r')\n",
    "polymer = txt_file.read().splitlines()[0]\n",
    "\n",
    "def reaction(a,b):\n",
    "    return a == b.swapcase()\n",
    "\n",
    "lowers = list(string.ascii_lowercase) \n",
    "uppers = list(string.ascii_uppercase)\n",
    "\n",
    "reactions = [''.join(x) for x in zip(lowers, uppers)]\n",
    "reactions += [x[::-1] for x in reactions]\n",
    "\n",
    "oldpolymer = ''\n",
    "while oldpolymer != polymer:\n",
    "    oldpolymer = (polymer + '.')[:-1]\n",
    "    for reaction in reactions:\n",
    "        polymer = polymer.replace(reaction,'')\n",
    "print(len(polymer))\n",
    "#too high 10451"
   ]
  }
 ],
 "metadata": {
  "kernelspec": {
   "display_name": "Python 3",
   "language": "python",
   "name": "python3"
  },
  "language_info": {
   "codemirror_mode": {
    "name": "ipython",
    "version": 3
   },
   "file_extension": ".py",
   "mimetype": "text/x-python",
   "name": "python",
   "nbconvert_exporter": "python",
   "pygments_lexer": "ipython3",
   "version": "3.6.5"
  }
 },
 "nbformat": 4,
 "nbformat_minor": 2
}
