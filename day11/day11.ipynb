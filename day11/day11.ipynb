{
 "cells": [
  {
   "cell_type": "code",
   "execution_count": 42,
   "metadata": {
    "scrolled": true
   },
   "outputs": [
    {
     "name": "stdout",
     "output_type": "stream",
     "text": [
      "(233, 146, 13)\n",
      "time: 98.61032891273499\n"
     ]
    }
   ],
   "source": [
    "import numpy as np\n",
    "import time\n",
    "\n",
    "serial = 9306 # input = 9306\n",
    "\n",
    "def powerLevel(index):\n",
    "    rackID = index[0] + 10\n",
    "    power = (rackID * index[1] + serial) * rackID\n",
    "    return power // 100 % 10 - 5\n",
    "    \n",
    "dim = 301\n",
    "grid = np.zeros((dim, dim), int)\n",
    "for index, x in np.ndenumerate(grid):\n",
    "    grid[index] = powerLevel(index)\n",
    "    \n",
    "power3x3 = np.zeros((dim,dim,dim), int)\n",
    "start = time.time()\n",
    "for powerdim in range(1,300):\n",
    "    for index, power in np.ndenumerate(grid):\n",
    "        x, y = index\n",
    "        if 0 < x < dim - powerdim and 0 < y < dim - powerdim:\n",
    "            power3x3[index][powerdim] = grid[x:x+powerdim,y:y+powerdim].sum()\n",
    "end = time.time()\n",
    "        \n",
    "print(np.unravel_index(np.argmax(power3x3), power3x3.shape))\n",
    "print('time:',end-start)   "
   ]
  },
  {
   "cell_type": "code",
   "execution_count": 43,
   "metadata": {
    "scrolled": true
   },
   "outputs": [
    {
     "name": "stdout",
     "output_type": "stream",
     "text": [
      "(235, 38, 3)\n",
      "(233, 146, 13)\n",
      "time: 10.887378215789795\n"
     ]
    }
   ],
   "source": [
    "import numpy as np\n",
    "import time\n",
    "\n",
    "serial = 9306 # input = 9306\n",
    "\n",
    "def power(x, y):\n",
    "    rackID = (x+1) + 10\n",
    "    power = (rackID * (y+1) + serial) * rackID\n",
    "    return power // 100 % 10 - 5\n",
    "\n",
    "grid = np.fromfunction(power, (300, 300))\n",
    "\n",
    "summedAT = grid.cumsum(axis=0).cumsum(axis=1)\n",
    "bestScore = 0\n",
    "start = time.time()\n",
    "for dim in range(3, 300):\n",
    "    for x in range(300-dim):\n",
    "        for y in range(300-dim):\n",
    "            score = summedAT[x+dim,y+dim] + summedAT[x,y] - summedAT[x+dim,y] - summedAT[x,y+dim]\n",
    "            if score > bestScore:\n",
    "                best = (x+2,y+2,dim)\n",
    "                bestScore = score\n",
    "    if dim == 3:\n",
    "        print(best)\n",
    "end = time.time()\n",
    "print(best)\n",
    "print('time:',end-start)\n",
    "\n",
    "\n",
    "    "
   ]
  }
 ],
 "metadata": {
  "kernelspec": {
   "display_name": "Python 3",
   "language": "python",
   "name": "python3"
  },
  "language_info": {
   "codemirror_mode": {
    "name": "ipython",
    "version": 3
   },
   "file_extension": ".py",
   "mimetype": "text/x-python",
   "name": "python",
   "nbconvert_exporter": "python",
   "pygments_lexer": "ipython3",
   "version": "3.7.0"
  }
 },
 "nbformat": 4,
 "nbformat_minor": 2
}
