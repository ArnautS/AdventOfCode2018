{
 "cells": [
  {
   "cell_type": "code",
   "execution_count": 30,
   "metadata": {},
   "outputs": [
    {
     "name": "stdout",
     "output_type": "stream",
     "text": [
      "331\n"
     ]
    }
   ],
   "source": [
    "import numpy as np\n",
    "import networkx as nx\n",
    "\n",
    "def manhattan(pointA, pointB):\n",
    "    return sum(abs(np.array(pointA)-np.array(pointB)))\n",
    "\n",
    "data = np.genfromtxt('input.txt', delimiter=',', dtype=int)\n",
    "graph = nx.Graph()\n",
    "\n",
    "for pointA in data:\n",
    "    pointA = tuple(pointA)\n",
    "    graph.add_node(pointA)\n",
    "    for pointB in graph:\n",
    "        if manhattan(pointA, pointB) <= 3:\n",
    "            graph.add_edge(pointA, pointB)\n",
    "\n",
    "print(sum(1 for i in nx.connected_components(graph)))"
   ]
  },
  {
   "cell_type": "code",
   "execution_count": 8,
   "metadata": {},
   "outputs": [
    {
     "name": "stdout",
     "output_type": "stream",
     "text": [
      "[[1, 2, 3], [1, 2]]\n"
     ]
    }
   ],
   "source": [
    "arr = [[1,2,3],[1,2]]\n",
    "print(list(np.array(arr)))"
   ]
  },
  {
   "cell_type": "code",
   "execution_count": null,
   "metadata": {},
   "outputs": [],
   "source": []
  }
 ],
 "metadata": {
  "kernelspec": {
   "display_name": "Python 3",
   "language": "python",
   "name": "python3"
  },
  "language_info": {
   "codemirror_mode": {
    "name": "ipython",
    "version": 3
   },
   "file_extension": ".py",
   "mimetype": "text/x-python",
   "name": "python",
   "nbconvert_exporter": "python",
   "pygments_lexer": "ipython3",
   "version": "3.7.0"
  }
 },
 "nbformat": 4,
 "nbformat_minor": 2
}
