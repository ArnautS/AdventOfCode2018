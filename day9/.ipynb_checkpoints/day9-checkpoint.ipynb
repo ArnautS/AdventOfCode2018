{
 "cells": [
  {
   "cell_type": "code",
   "execution_count": 43,
   "metadata": {},
   "outputs": [
    {
     "name": "stdout",
     "output_type": "stream",
     "text": [
      "3169872331\n"
     ]
    }
   ],
   "source": [
    "import numpy as np\n",
    "\n",
    "class Marble:\n",
    "    def __init__(self, value):\n",
    "        self.value = value\n",
    "        self.left  = self #counter-clockwise\n",
    "        self.right = self #clockwise\n",
    "        \n",
    "    def insert(self, marble):\n",
    "        marble.left = self\n",
    "        marble.right = self.right\n",
    "        self.right.left = marble\n",
    "        self.right = marble\n",
    "        \n",
    "    def remove(self):\n",
    "        self.right.left = self.left\n",
    "        self.left.right = self.right\n",
    "\n",
    "marbles = 7078400 # input = 70784\n",
    "players = 452  # input = 452\n",
    "\n",
    "current = Marble(0)\n",
    "scores = np.zeros(players, dtype='int64')\n",
    "\n",
    "for i in range(1,marbles+1):\n",
    "    player = i % players\n",
    "    if i % 23 == 0:\n",
    "        scores[player-1] += i\n",
    "        current = current.left.left.left.left.left.left\n",
    "        scores[player-1] += current.left.value\n",
    "        current.left.remove()\n",
    "    else:\n",
    "        new = Marble(i)\n",
    "        current.right.insert(new)\n",
    "        current = new\n",
    "    \n",
    "print(max(scores))"
   ]
  },
  {
   "cell_type": "code",
   "execution_count": null,
   "metadata": {},
   "outputs": [],
   "source": []
  }
 ],
 "metadata": {
  "kernelspec": {
   "display_name": "Python 3",
   "language": "python",
   "name": "python3"
  },
  "language_info": {
   "codemirror_mode": {
    "name": "ipython",
    "version": 3
   },
   "file_extension": ".py",
   "mimetype": "text/x-python",
   "name": "python",
   "nbconvert_exporter": "python",
   "pygments_lexer": "ipython3",
   "version": "3.7.0"
  }
 },
 "nbformat": 4,
 "nbformat_minor": 2
}
