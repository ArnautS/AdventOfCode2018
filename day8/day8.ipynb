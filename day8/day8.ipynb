{
 "cells": [
  {
   "cell_type": "code",
   "execution_count": 6,
   "metadata": {},
   "outputs": [
    {
     "name": "stdout",
     "output_type": "stream",
     "text": [
      "43351\n",
      "21502\n"
     ]
    }
   ],
   "source": [
    "import numpy as np\n",
    "\n",
    "class Analyser():\n",
    "    def __init__(self):\n",
    "        self.index = 0\n",
    "        self.total = 0\n",
    "\n",
    "    def analyseTree(self, tree):\n",
    "        children = [0]\n",
    "        value = 0\n",
    "        nodes = tree[self.index]\n",
    "        metadata = tree[self.index+1]        \n",
    "        self.index += 2\n",
    "        if nodes > 0:\n",
    "            for i in range(nodes):\n",
    "                children.append(self.analyseTree(tree))\n",
    "            for i in range(metadata):\n",
    "                data = tree[self.index]\n",
    "                self.total += data\n",
    "                if 0 < data < len(children):\n",
    "                    value += children[data]\n",
    "                self.index += 1\n",
    "        else:\n",
    "            for i in range(metadata):\n",
    "                self.total += tree[self.index]\n",
    "                value += tree[self.index]\n",
    "                self.index += 1\n",
    "        return value\n",
    "    \n",
    "tree = np.genfromtxt(\"input.txt\", int)\n",
    "A = Analyser()\n",
    "rootvalue = A.analyseTree(tree)\n",
    "print(A.total)\n",
    "print(rootvalue)\n"
   ]
  }
 ],
 "metadata": {
  "kernelspec": {
   "display_name": "Python 3",
   "language": "python",
   "name": "python3"
  },
  "language_info": {
   "codemirror_mode": {
    "name": "ipython",
    "version": 3
   },
   "file_extension": ".py",
   "mimetype": "text/x-python",
   "name": "python",
   "nbconvert_exporter": "python",
   "pygments_lexer": "ipython3",
   "version": "3.7.0"
  }
 },
 "nbformat": 4,
 "nbformat_minor": 2
}
