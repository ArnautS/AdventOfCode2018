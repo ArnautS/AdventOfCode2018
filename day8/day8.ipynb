{
 "cells": [
  {
   "cell_type": "code",
   "execution_count": 1,
   "metadata": {},
   "outputs": [
    {
     "name": "stdout",
     "output_type": "stream",
     "text": [
      "43351\n"
     ]
    }
   ],
   "source": [
    "import numpy as np\n",
    "\n",
    "class Analyser():\n",
    "    def __init__(self):\n",
    "        self.index = 0\n",
    "        self.total = 0\n",
    "\n",
    "    def analyseTree(self, tree):\n",
    "        nodes = tree[self.index]\n",
    "        metadata = tree[self.index+1]\n",
    "        self.index += 2\n",
    "        for node in range(nodes):\n",
    "            self.analyseTree(tree)\n",
    "        for data in range(metadata):\n",
    "            self.total += tree[self.index]\n",
    "            self.index += 1\n",
    "\n",
    "tree = np.genfromtxt(\"input.txt\", int)\n",
    "A = Analyser()\n",
    "A.analyseTree(tree)\n",
    "print(analyse.total)\n"
   ]
  }
 ],
 "metadata": {
  "kernelspec": {
   "display_name": "Python 3",
   "language": "python",
   "name": "python3"
  },
  "language_info": {
   "codemirror_mode": {
    "name": "ipython",
    "version": 3
   },
   "file_extension": ".py",
   "mimetype": "text/x-python",
   "name": "python",
   "nbconvert_exporter": "python",
   "pygments_lexer": "ipython3",
   "version": "3.7.0"
  }
 },
 "nbformat": 4,
 "nbformat_minor": 2
}
