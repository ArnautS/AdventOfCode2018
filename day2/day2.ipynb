{
 "cells": [
  {
   "cell_type": "code",
   "execution_count": 1,
   "metadata": {},
   "outputs": [],
   "source": [
    "import numpy as np\n",
    "import collections as col\n",
    "import time"
   ]
  },
  {
   "cell_type": "code",
   "execution_count": 2,
   "metadata": {},
   "outputs": [
    {
     "data": {
      "text/plain": [
       "4920"
      ]
     },
     "execution_count": 2,
     "metadata": {},
     "output_type": "execute_result"
    }
   ],
   "source": [
    "#puzzle 1\n",
    "data = np.loadtxt('input.txt',dtype='str')\n",
    "twos, threes = 0, 0\n",
    "for entry in data:\n",
    "    foundTwo, foundThree = False, False\n",
    "    for count in col.Counter(entry).most_common():\n",
    "        if not foundTwo and count[1] == 2:\n",
    "            twos += 1\n",
    "            foundTwo = True\n",
    "        if not foundThree and count[1] == 3:\n",
    "            threes += 1\n",
    "            foundThree = True\n",
    "twos * threes        "
   ]
  },
  {
   "cell_type": "code",
   "execution_count": 4,
   "metadata": {},
   "outputs": [
    {
     "name": "stdout",
     "output_type": "stream",
     "text": [
      "fonbwmjyquwtapeyzikghtvdxl fonbwmjzquwtapeyzikghtvdxl\n"
     ]
    }
   ],
   "source": [
    "#puzzle 2\n",
    "lengthID = len(data[0])\n",
    "for i in range(data.size):\n",
    "    firstID = data[i]\n",
    "    for j in range(i+1, data.size):\n",
    "        secondID = data[j]\n",
    "        foundOne = False\n",
    "        for k in range(lengthID):\n",
    "            if firstID[k] != secondID[k]:\n",
    "                if not foundOne:\n",
    "                    foundOne = True\n",
    "                else:\n",
    "                    break\n",
    "            if k == lengthID-1:\n",
    "                print(data[i], data[j])\n",
    "                \n",
    "    "
   ]
  },
  {
   "cell_type": "code",
   "execution_count": 10,
   "metadata": {},
   "outputs": [
    {
     "data": {
      "text/plain": [
       "26"
      ]
     },
     "execution_count": 10,
     "metadata": {},
     "output_type": "execute_result"
    }
   ],
   "source": [
    "len(data[0])\n"
   ]
  },
  {
   "cell_type": "code",
   "execution_count": null,
   "metadata": {},
   "outputs": [],
   "source": []
  }
 ],
 "metadata": {
  "kernelspec": {
   "display_name": "Python 3",
   "language": "python",
   "name": "python3"
  },
  "language_info": {
   "codemirror_mode": {
    "name": "ipython",
    "version": 3
   },
   "file_extension": ".py",
   "mimetype": "text/x-python",
   "name": "python",
   "nbconvert_exporter": "python",
   "pygments_lexer": "ipython3",
   "version": "3.7.0"
  }
 },
 "nbformat": 4,
 "nbformat_minor": 2
}
