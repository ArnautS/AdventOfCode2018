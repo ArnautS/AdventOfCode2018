{
 "cells": [
  {
   "cell_type": "code",
   "execution_count": 77,
   "metadata": {},
   "outputs": [
    {
     "name": "stdout",
     "output_type": "stream",
     "text": [
      "3839\n",
      "8407\n"
     ]
    }
   ],
   "source": [
    "data = open('input.txt').read()[1:-2]\n",
    "stack = []\n",
    "x, y = 2000, 2000\n",
    "prev_x, prev_y = x, y\n",
    "directions = {\n",
    "    \"N\": (0, -1),\n",
    "    \"E\": (1, 0),\n",
    "    \"S\": (0, 1),\n",
    "    \"W\": (-1, 0)\n",
    "}\n",
    "distances = defaultdict(int)\n",
    "for char in data:\n",
    "    if char == '(':\n",
    "        stack.append((x, y))\n",
    "    elif char == ')':\n",
    "        x, y = stack.pop()\n",
    "    elif char == '|':\n",
    "        x, y = stack[-1]\n",
    "    else:\n",
    "        dx, dy = directions[char]\n",
    "        x += dx\n",
    "        y += dy\n",
    "    if distances[(x, y)] != 0:\n",
    "        distances[(x, y)] = min(distances[(x, y)], distances[(prev_x, prev_y)]+1)\n",
    "    else:\n",
    "        distances[(x, y)] = distances[(prev_x, prev_y)]+1\n",
    "    prev_x, prev_y = x, y\n",
    "print(max(distances.values()))\n",
    "print(sum([1 for x in distances.values() if x >= 1000]))"
   ]
  },
  {
   "cell_type": "code",
   "execution_count": null,
   "metadata": {},
   "outputs": [],
   "source": []
  }
 ],
 "metadata": {
  "kernelspec": {
   "display_name": "Python 3",
   "language": "python",
   "name": "python3"
  },
  "language_info": {
   "codemirror_mode": {
    "name": "ipython",
    "version": 3
   },
   "file_extension": ".py",
   "mimetype": "text/x-python",
   "name": "python",
   "nbconvert_exporter": "python",
   "pygments_lexer": "ipython3",
   "version": "3.6.5"
  }
 },
 "nbformat": 4,
 "nbformat_minor": 2
}
