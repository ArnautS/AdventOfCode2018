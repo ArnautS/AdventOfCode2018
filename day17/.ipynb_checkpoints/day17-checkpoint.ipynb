{
 "cells": [
  {
   "cell_type": "code",
   "execution_count": 5,
   "metadata": {},
   "outputs": [
    {
     "name": "stdout",
     "output_type": "stream",
     "text": [
      "{0: 3307619, 1: 5543, 2: 26410, 3: 16328}\n",
      "31953\n",
      "26410\n",
      "[[ 0  0  0  0  0  0 -1  0  0  0  0  0  0  0]\n",
      " [ 0  0  0  0  0  0  1  0  0  0  0  0  0  0]\n",
      " [ 0  0  0  0  0  0  1  0  0  0  0  0  0  0]\n",
      " [ 0  0  0  0  0  0  1  0  0  0  0  0  0  0]\n",
      " [ 0  0  0  0  0  0  1  0  0  0  0  0  0  0]\n",
      " [ 0  0  0  0  0  0  1  0  0  0  0  0  0  0]\n",
      " [ 0  0  0  0  0  0  1  0  0  0  0  0  0  0]\n",
      " [ 0  0  0  0  0  0  1  0  0  0  0  0  0  0]\n",
      " [ 0  0  0  0  0  0  1  0  0  0  0  0  0  0]\n",
      " [ 1  1  1  1  1  1  1  1  1  1  1  1  1  1]\n",
      " [ 2  2  2  2  2  2  2  2  2  2  2  2  2  2]\n",
      " [ 2  2  2  2  2  2  2  2  2  2  2  2  2  2]\n",
      " [ 2  2  2  2  2  2  2  2  2  2  2  2  2  2]\n",
      " [ 2  2  2  2  2  2  2  2  2  2  2  2  2  2]\n",
      " [ 2  2  2  2  2  2  2  2  2  2  2  2  2  2]]\n"
     ]
    }
   ],
   "source": [
    "import numpy as np\n",
    "import re\n",
    "\n",
    "data = open('input.txt','r').read().splitlines()\n",
    "# '.' = 0, '|' = 1, '~' = 2, '#' = 3\n",
    "grid = np.zeros((1850,1850), int)\n",
    "for line in data:\n",
    "    num = [int(char) for char in re.findall('\\d+', line)]\n",
    "    if line[0] == 'x':\n",
    "        grid[num[1]:num[2]+1,num[0]] = 3\n",
    "    elif line[0] == 'y':\n",
    "        grid[num[0],num[1]:num[2]+1] = 3\n",
    "        \n",
    "ymin, ymax = np.where(grid==3)[0][0], np.where(grid==3)[0][-1]\n",
    "        \n",
    "source = (0,500)\n",
    "grid[source] = -1\n",
    "\n",
    "def flow(y,x):\n",
    "    while grid[y+1,x] == 0:\n",
    "        grid[y+1,x] = 1\n",
    "        y += 1\n",
    "        if y+1 == grid.shape[0]:\n",
    "            return\n",
    "    left = (y,x-1)\n",
    "    right = (y,x+1)\n",
    "    below = (y+1,x)\n",
    "    above = (y-1,x) \n",
    "    \n",
    "    if grid[below] > 1:\n",
    "        if grid[left] == 0:\n",
    "            grid[left] = 1\n",
    "            flow(*left)\n",
    "        if grid[right] == 0:\n",
    "            grid[right] = 1\n",
    "            flow(*right)\n",
    "    if grid[above] == 1:\n",
    "        nextWall = x\n",
    "        if nextWall>grid.shape[0]:\n",
    "            print(\"Error\")\n",
    "        while grid[y,nextWall] != 3:\n",
    "            nextWall += 1\n",
    "            if nextWall == grid.shape[0]:\n",
    "                return\n",
    "        prevWall = x\n",
    "        while grid[y,prevWall] != 3:\n",
    "            prevWall -= 1\n",
    "            if prevWall < 0:\n",
    "                return\n",
    "        if np.array([(grid[y,prevWall+1:nextWall] == np.ones(nextWall-(prevWall+1)))]).all():\n",
    "            grid[y,prevWall+1:nextWall] = 2\n",
    "        flow(*above)\n",
    "        \n",
    "\n",
    "testGrid = grid[:15,494:508]\n",
    "flow(*source)\n",
    "\n",
    "\n",
    "unique, counts = np.unique(grid[ymin:ymax+1,:], return_counts=True)\n",
    "countGrid = dict(zip(unique, counts))\n",
    "\n",
    "print(countGrid)\n",
    "print(countGrid[1]+countGrid[2])\n",
    "print(countGrid[2])\n",
    "print(testGrid)\n",
    "        "
   ]
  },
  {
   "cell_type": "code",
   "execution_count": null,
   "metadata": {},
   "outputs": [],
   "source": []
  },
  {
   "cell_type": "code",
   "execution_count": null,
   "metadata": {},
   "outputs": [],
   "source": []
  }
 ],
 "metadata": {
  "kernelspec": {
   "display_name": "Python 3",
   "language": "python",
   "name": "python3"
  },
  "language_info": {
   "codemirror_mode": {
    "name": "ipython",
    "version": 3
   },
   "file_extension": ".py",
   "mimetype": "text/x-python",
   "name": "python",
   "nbconvert_exporter": "python",
   "pygments_lexer": "ipython3",
   "version": "3.7.0"
  }
 },
 "nbformat": 4,
 "nbformat_minor": 2
}
