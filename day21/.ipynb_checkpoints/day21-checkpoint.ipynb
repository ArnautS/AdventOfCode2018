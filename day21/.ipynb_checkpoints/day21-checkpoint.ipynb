{
 "cells": [
  {
   "cell_type": "code",
   "execution_count": 1,
   "metadata": {},
   "outputs": [
    {
     "name": "stdout",
     "output_type": "stream",
     "text": [
      "part1: 3345459\n",
      "part2: 5857354\n"
     ]
    }
   ],
   "source": [
    "def func():\n",
    "    B = 0\n",
    "    values = []\n",
    "    while True:\n",
    "        E = B | 65536\n",
    "        B = 16298264\n",
    "        while True:\n",
    "            F = E & 255\n",
    "            B += F\n",
    "            B = B & 16777215\n",
    "            B *= 65899\n",
    "            B = B & 16777215\n",
    "            if 256 > E:\n",
    "                if B in values:\n",
    "                    return values\n",
    "                values.append(B)\n",
    "                break\n",
    "            E = E // 256\n",
    "\n",
    "values = func()\n",
    "print('part1:',values[0])\n",
    "print('part2:',values[-1])"
   ]
  },
  {
   "cell_type": "code",
   "execution_count": null,
   "metadata": {},
   "outputs": [],
   "source": []
  }
 ],
 "metadata": {
  "kernelspec": {
   "display_name": "Python 3",
   "language": "python",
   "name": "python3"
  },
  "language_info": {
   "codemirror_mode": {
    "name": "ipython",
    "version": 3
   },
   "file_extension": ".py",
   "mimetype": "text/x-python",
   "name": "python",
   "nbconvert_exporter": "python",
   "pygments_lexer": "ipython3",
   "version": "3.6.5"
  }
 },
 "nbformat": 4,
 "nbformat_minor": 2
}
