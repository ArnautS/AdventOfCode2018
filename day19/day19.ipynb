{
 "cells": [
  {
   "cell_type": "code",
   "execution_count": 4,
   "metadata": {},
   "outputs": [
    {
     "name": "stdout",
     "output_type": "stream",
     "text": [
      "early stop\n",
      "[       0   124998        0        1        5 10551364]\n"
     ]
    }
   ],
   "source": [
    "import numpy as np\n",
    "import re\n",
    "\n",
    "def addr(A,B,C):\n",
    "    reg[C] = reg[A] + reg[B]\n",
    "    \n",
    "def addi(A,B,C):\n",
    "    reg[C] = reg[A] + B\n",
    "    \n",
    "def mulr(A,B,C):\n",
    "    reg[C] = reg[A] * reg[B]\n",
    "\n",
    "def muli(A,B,C):\n",
    "    reg[C] = reg[A] * B\n",
    "    \n",
    "def banr(A,B,C):\n",
    "    reg[C] = reg[A] & reg[B]\n",
    "    \n",
    "def bani(A,B,C):\n",
    "    reg[C] = reg[A] & B\n",
    "    \n",
    "def borr(A,B,C):\n",
    "    reg[C] = reg[A] | reg[B]\n",
    "    \n",
    "def bori(A,B,C):\n",
    "    reg[C] = reg[A] | B\n",
    "    \n",
    "def setr(A,B,C):\n",
    "    reg[C] = reg[A]\n",
    "    \n",
    "def seti(A,B,C):\n",
    "    reg[C] = A\n",
    "    \n",
    "def gtir(A,B,C):\n",
    "    reg[C] = 1 if A > reg[B] else 0\n",
    "    \n",
    "def gtri(A,B,C):\n",
    "    reg[C] = 1 if reg[A] > B else 0\n",
    "    \n",
    "def gtrr(A,B,C):\n",
    "    reg[C] = 1 if reg[A] > reg[B] else 0\n",
    "    \n",
    "def eqir(A,B,C):\n",
    "    reg[C] = 1 if A == reg[B] else 0\n",
    "    \n",
    "def eqri(A,B,C):\n",
    "    reg[C] = 1 if reg[A] == B else 0\n",
    "    \n",
    "def eqrr(A,B,C):\n",
    "    reg[C] = 1 if reg[A] == reg[B] else 0\n",
    "\n",
    "def fields_view(array, fields):\n",
    "    return array.getfield(np.dtype(\n",
    "        {name: array.dtype.fields[name] for name in fields}\n",
    "    ))\n",
    "    \n",
    "operations = [addr, addi, mulr, muli, banr, bani, borr, bori, setr, seti, gtir,\n",
    "              gtri, gtrr, eqir, eqri, eqrr]\n",
    "\n",
    "data = np.genfromtxt('input.txt',comments='#',dtype=[('<U16'),(int),(int),(int)],delimiter=' ')\n",
    "\n",
    "instructions = fields_view(data,data[0].dtype.names[1:])\n",
    "\n",
    "#ip 4\n",
    "ipReg = 4\n",
    "ip = 0\n",
    "reg = np.zeros(6, int)\n",
    "reg[0] = 1\n",
    "i = 0\n",
    "while True:\n",
    "    instruction = instructions[ip]    \n",
    "    reg[ipReg] = ip\n",
    "    locals()[data[ip][0]](*instruction)\n",
    "    ip = reg[ipReg]\n",
    "    ip += 1\n",
    "    if ip > data.size:\n",
    "        break\n",
    "    \n",
    "    print(reg)\n",
    "    i+= 1\n",
    "    if i == 20:\n",
    "        break\n",
    "    \n",
    "print(reg)\n",
    "    "
   ]
  },
  {
   "cell_type": "code",
   "execution_count": 55,
   "metadata": {},
   "outputs": [
    {
     "name": "stdout",
     "output_type": "stream",
     "text": [
      "1694\n",
      "18964204\n"
     ]
    }
   ],
   "source": [
    "part1 = 964\n",
    "part2 = 10551364\n",
    "def func(F):\n",
    "    A = 0\n",
    "    for i in range(1,F+1):\n",
    "        if F % i == 0:\n",
    "            D = F // i\n",
    "            A += D\n",
    "    return A\n",
    "        \n",
    "print(func(part1))\n",
    "print(func(part2))"
   ]
  },
  {
   "cell_type": "code",
   "execution_count": null,
   "metadata": {},
   "outputs": [],
   "source": []
  }
 ],
 "metadata": {
  "kernelspec": {
   "display_name": "Python 3",
   "language": "python",
   "name": "python3"
  },
  "language_info": {
   "codemirror_mode": {
    "name": "ipython",
    "version": 3
   },
   "file_extension": ".py",
   "mimetype": "text/x-python",
   "name": "python",
   "nbconvert_exporter": "python",
   "pygments_lexer": "ipython3",
   "version": "3.6.5"
  }
 },
 "nbformat": 4,
 "nbformat_minor": 2
}
